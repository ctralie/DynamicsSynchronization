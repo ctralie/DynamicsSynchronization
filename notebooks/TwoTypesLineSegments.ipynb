{
 "cells": [
  {
   "cell_type": "code",
   "execution_count": 1,
   "metadata": {},
   "outputs": [],
   "source": [
    "import sys\n",
    "sys.path.append(\"../\")\n",
    "import numpy as np\n",
    "import scipy.io as sio\n",
    "import scipy.linalg as slinalg\n",
    "from skimage.transform import resize\n",
    "from scipy.ndimage.filters import gaussian_filter1d as gf1d\n",
    "import matplotlib.pyplot as plt\n",
    "import seaborn as sns\n",
    "import ICP\n",
    "import importlib\n",
    "from PDE2D import *\n",
    "import Mahalanobis\n",
    "from SyntheticExamples import FlatTorusIdeal\n",
    "from Kuramoto import *\n",
    "from ripser import ripser\n",
    "from persim import plot_diagrams as plot_dgms"
   ]
  },
  {
   "cell_type": "markdown",
   "metadata": {},
   "source": [
    "# Sampling Two Types of Line Segments / Computing Mahalanobis Diffusion Maps\n",
    "\n"
   ]
  },
  {
   "cell_type": "code",
   "execution_count": 2,
   "metadata": {},
   "outputs": [],
   "source": [
    "## First setup the solution grid of the Kuramoto Sivashinsky equation\n",
    "np.random.seed(1)\n",
    "fac = 0.5\n",
    "ks1 = KSSimulation(co_rotating=False, scale=(fac*10, fac/1.42), reldir='../')\n",
    "ks1.crop(0, 220, 0, ks1.I.shape[1])\n",
    "ks2 = KSSimulation(co_rotating=False, scale=(fac*10, fac/1.42), reldir='../')\n",
    "ks2.crop(0, 220, 0, ks2.I.shape[1])\n",
    "theta1 = np.pi/3\n",
    "theta2 = 2*np.pi/3"
   ]
  },
  {
   "cell_type": "code",
   "execution_count": 3,
   "metadata": {},
   "outputs": [
    {
     "name": "stdout",
     "output_type": "stream",
     "text": [
      "Making 4000 observations of dimension (80, 1) on a grid of (220, 140)...\n",
      "Elapsed time patch sampling: 0.0903\n",
      "Elapsed time patch sampling: 0.0862\n",
      "Making 4000 observations of dimension (80, 1) on a grid of (220, 140)...\n",
      "Elapsed time patch sampling: 0.0992\n",
      "Elapsed time patch sampling: 0.0856\n"
     ]
    }
   ],
   "source": [
    "## Sample observations of one type and of another type\n",
    "pd = (80, 1)\n",
    "nsamples = 4000\n",
    "ks1.makeObservations(pd, nsamples, rotate=False, uniform=False)\n",
    "ks1.thetas = theta1*np.ones_like(ks1.thetas)\n",
    "ks1.completeObservations()\n",
    "ks2.makeObservations(pd, nsamples, rotate=False, uniform=False)\n",
    "ks2.thetas = theta2*np.ones_like(ks2.thetas)\n",
    "#ks2.Xs[-4::] = ks1.Xs[-4::] # Make the last 4 observations at the same location\n",
    "#ks2.Ts[-4::] = ks1.Ts[-4::]\n",
    "ks2.completeObservations()\n",
    "ks1.concatenateOther(ks2)\n",
    "ks = ks1\n",
    "idxresort = ks.resort_byrandom()"
   ]
  },
  {
   "cell_type": "code",
   "execution_count": null,
   "metadata": {},
   "outputs": [
    {
     "name": "stdout",
     "output_type": "stream",
     "text": [
      "Computing Jacobians, rank = 2, maxiegs = 80...\n",
      "0 of 8000\n",
      "500 of 8000\n",
      "1000 of 8000\n",
      "1500 of 8000\n",
      "2000 of 8000\n",
      "2500 of 8000\n",
      "3000 of 8000\n",
      "3500 of 8000\n",
      "4000 of 8000\n",
      "4500 of 8000\n",
      "5000 of 8000\n",
      "5500 of 8000\n",
      "6000 of 8000\n",
      "6500 of 8000\n",
      "7000 of 8000\n",
      "7500 of 8000\n",
      "Elapsed Time: 29\n"
     ]
    }
   ],
   "source": [
    "## Compute the Mahalanobis distance and mask indices\n",
    "delta = 5\n",
    "n_points = 100\n",
    "rank = 2\n",
    "maxeigs = 100\n",
    "dMaxSqr = 1000\n",
    "ellipsoid_fn = lambda idx, delta, n_points: ks.get_mahalanobis_ellipsoid(idx, delta, n_points, uniform_circle=True)\n",
    "res = Mahalanobis.getMahalanobisDists(ks.patches, ellipsoid_fn, delta, n_points=n_points, rank=rank, maxeigs=maxeigs)\n",
    "gamma, maskidx = res[\"gamma\"], res[\"maskidx\"]"
   ]
  },
  {
   "cell_type": "code",
   "execution_count": null,
   "metadata": {},
   "outputs": [],
   "source": [
    "## Compute diffusion maps and TDA at all thresholds of the mask\n",
    "eps = dMaxSqr*np.max(gamma)*1e-3 # Autotune diffusion eps in terms of point cloud diameter\n",
    "# Try different thresholds of the Mahalanobis mask\n",
    "res = getMahalanobisAllThresh(gamma, maskidx, eps=eps, neigs=20, flip=False, verbose=True)\n",
    "Ys, alldgms = res[\"Ys\"], res[\"alldgms\"]"
   ]
  },
  {
   "cell_type": "code",
   "execution_count": null,
   "metadata": {},
   "outputs": [],
   "source": [
    "# Compute the top most persistent h0, the top 4 most persistent h1s, \n",
    "# and the top two persistent h2s at each threshold, and use these\n",
    "# to choose the optimal threshold\n",
    "N = len(alldgms)\n",
    "h0 = np.zeros(N)\n",
    "h1s = np.zeros((N, 4))\n",
    "h2s = np.zeros((N, 2))\n",
    "for i, dgms in enumerate(alldgms):\n",
    "    h0i, h1i, h2i = dgms[0:3]\n",
    "    h0i = h0i[np.isfinite(h0i[:, 1]), :]\n",
    "    if h0i.size > 0:\n",
    "        h0[i] = np.max(h0i[:, 1])\n",
    "    if h1i.size > 0:\n",
    "        h1si = h1i[:, 1] - h1i[:, 0]\n",
    "        h1si = h1si[np.argsort(-h1si)]\n",
    "        k = min(h1si.size, 4)\n",
    "        h1s[i, 0:k] = h1si[0:k]\n",
    "    if h2i.size > 0:\n",
    "        h2si = h2i[:, 1] - h2i[:, 0]\n",
    "        h2si = h2si[np.argsort(-h2si)]\n",
    "        k = min(h2si.size, 2)\n",
    "        h2s[i, 0:k] = h2si[0:k]\n",
    "thresh = np.argmax(h1s[:, 3])\n",
    "print(\"thresh = %i\"%thresh)"
   ]
  },
  {
   "cell_type": "code",
   "execution_count": null,
   "metadata": {},
   "outputs": [],
   "source": [
    "## Redo diffusion maps computation and persistence diagrams at the chosen threshold\n",
    "## for demonstration \n",
    "thresh = np.argmax(h1s[:, 3])\n",
    "mask = np.array(maskidx >= thresh, dtype=float)\n",
    "Y = getDiffusionMap(gamma, eps=eps, distance_matrix=True, mask=mask, neigs=20, flip=False)\n",
    "Y = np.fliplr(Y)\n",
    "dgms = ripser(Y, n_perm=600, maxdim=2)['dgms']"
   ]
  },
  {
   "cell_type": "code",
   "execution_count": null,
   "metadata": {},
   "outputs": [],
   "source": [
    "## Plot all results\n",
    "import matplotlib.transforms as mtransforms\n",
    "vmax = np.max(np.abs(ks.I))\n",
    "vmin = -vmax\n",
    "fac = 0.7\n",
    "plt.figure(figsize=(fac*14, fac*12))\n",
    "np.random.seed(0)\n",
    "ax = plt.subplot(221)\n",
    "NToPlot=100\n",
    "locs = np.random.rand(NToPlot, 2)*150\n",
    "for i in range(NToPlot):\n",
    "    p = np.reshape(ks.patches[i, :], ks.pd)\n",
    "    im = ax.imshow(p, interpolation='none', alpha=1, cmap='RdGy', vmin=vmin, vmax=vmax)\n",
    "    m = np.eye(3)\n",
    "    u = locs[i, :]\n",
    "    m[0:2, 2] = u\n",
    "    c = np.cos(ks.thetas[i])\n",
    "    s = np.sin(ks.thetas[i])\n",
    "    m[0, 0] = c\n",
    "    m[0, 1] = s\n",
    "    m[1, 0] = -s\n",
    "    m[1, 1] = c\n",
    "    trans = mtransforms.Affine2D()\n",
    "    trans.set_matrix(m)\n",
    "    im.set_transform(trans + ax.transData)\n",
    "plt.xlim([0, 200])\n",
    "plt.ylim([200, 0])\n",
    "plt.axis('off')\n",
    "plt.title(\"Shuffled Line Segments\")\n",
    "\n",
    "plt.subplot(222)\n",
    "plt.plot(h0, c='C0')\n",
    "plt.plot(h1s, c='C1')\n",
    "plt.plot(h2s, c='C2')\n",
    "plt.scatter([thresh], h1s[thresh, 3], c='C1')\n",
    "plt.ylim([0, np.max(h1s)*1.4])\n",
    "plt.xlim([0, 30])\n",
    "plt.xlabel(\"Mask Threshold\")\n",
    "plt.ylabel(\"Persistences\")\n",
    "plt.title(\"Chosen Threshold = %i\"%thresh)\n",
    "plt.subplot(223)\n",
    "pi_3 = Y[idxresort < nsamples, 0]\n",
    "twopi_3 = Y[idxresort >= nsamples, 0]\n",
    "sns.distplot(pi_3)\n",
    "sns.distplot(twopi_3)\n",
    "plt.legend([\"$\\\\pi/3$\", \"$2\\\\pi/3$\"])\n",
    "plt.xlabel(\"First Diffusion Maps Value\")\n",
    "plt.ylabel(\"Density\")\n",
    "plt.title(\"First Diffusion Maps Value\")\n",
    "plt.tight_layout()\n",
    "plt.subplot(224)\n",
    "plot_dgms(dgms)\n",
    "plt.title(\"Persistence Diagrams At Thresh %i\"%thresh)\n",
    "plt.tight_layout()\n",
    "#plt.savefig(\"TwoTypes.png\", bbox_inches='tight', dpi=400)\n",
    "plt.savefig(\"TwoTypes.svg\", bbox_inches='tight')"
   ]
  },
  {
   "cell_type": "code",
   "execution_count": null,
   "metadata": {},
   "outputs": [],
   "source": []
  }
 ],
 "metadata": {
  "kernelspec": {
   "display_name": "Python 3",
   "language": "python",
   "name": "python3"
  },
  "language_info": {
   "codemirror_mode": {
    "name": "ipython",
    "version": 3
   },
   "file_extension": ".py",
   "mimetype": "text/x-python",
   "name": "python",
   "nbconvert_exporter": "python",
   "pygments_lexer": "ipython3",
   "version": "3.7.1"
  }
 },
 "nbformat": 4,
 "nbformat_minor": 2
}
